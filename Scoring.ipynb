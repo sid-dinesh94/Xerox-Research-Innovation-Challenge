{
 "cells": [
  {
   "cell_type": "markdown",
   "metadata": {},
   "source": [
    "###PREDICTION "
   ]
  },
  {
   "cell_type": "markdown",
   "metadata": {},
   "source": [
    "Prediction must be made for each patient only when the patient is in ICU. The prediction\n",
    "must be done in an online manner, that is, at a given timestamp the model can use any of\n",
    "the past data to make a prediction for that timestamp. Predictions are to be made at every\n",
    "measurement timestamp while the patient is in ICU. "
   ]
  },
  {
   "cell_type": "markdown",
   "metadata": {},
   "source": [
    "Thus, each patient has a sequence of predictions. Each prediction is a label 0 or 1 and\n",
    "the number of predictions for each patient is not more than the number of rows in the data,\n",
    "for the given patient, where ICU flag == 1"
   ]
  },
  {
   "cell_type": "code",
   "execution_count": 2,
   "metadata": {
    "collapsed": true
   },
   "outputs": [],
   "source": [
    "###ValidPredictions: All predictions are for timestamps with ICUFlag = 1\n",
    "patient1 = [0,0,0,0,0,0,0,1,1,1,1]\n",
    "patient2 = [0,0,0,0,0,0,0]\n",
    "patient3 = [0,1,1,1,1]\n",
    "###Algorithm Output\n",
    "output = [patient1,patient2,patient3]"
   ]
  },
  {
   "cell_type": "markdown",
   "metadata": {},
   "source": [
    "###EVALUATION "
   ]
  },
  {
   "cell_type": "markdown",
   "metadata": {},
   "source": [
    "From the official Challenge description:\n",
    ">We obtain a final prediction per patient as follows: If the sequence of predictions for the\n",
    "patients contains only zeros, then the final prediction is 0, otherwise 1.\n",
    "\n",
    "><b>Prediction time</b> is only defined for patients whose final prediction is 1. It is the difference\n",
    "between the last timestamp (for the patient) and first timestamp with a prediction of 1.\n",
    "\n",
    ">We obtain a patient-wise classification table as follows:\n"
   ]
  },
  {
   "cell_type": "markdown",
   "metadata": {},
   "source": [
    "|                      | Mortality label 1    | Mortality label 0    |\n",
    "|----------------------|----------------------|----------------------|\n",
    "| Final Prediction 1   | True Positives (TP)  | False Positives (FP) |\n",
    "| Final Prediction 0   | False Negatives (FN) | True Negatives  (TN) |"
   ]
  },
  {
   "cell_type": "markdown",
   "metadata": {},
   "source": [
    "For patients with final prediction = 1, $$PredictionTime = (LastTimestampForDeadPatient - TimestampForFirst 1 In OurPrediction Sequence)$$\n",
    "Additionally,\n",
    "$$Sensitivity = \\frac{TP}{TP+FN}$$<br>\n",
    "$$Specificity = \\frac{TN}{TN+FP}$$"
   ]
  },
  {
   "cell_type": "markdown",
   "metadata": {},
   "source": [
    "<b>We need to get atleast .99 <i>Specificity</i> for this challenge. Or it won't be evaluated</b>"
   ]
  },
  {
   "cell_type": "markdown",
   "metadata": {},
   "source": [
    "Highest Sensitivity wins. Ties broken by Median Prediction Time"
   ]
  },
  {
   "cell_type": "markdown",
   "metadata": {},
   "source": [
    "<b>Output format</b><br>\n",
    "`output.csv` contains one row per patient. Each row contains PatientID,Prediction Time, Final Prediction\n",
    "\n",
    "Timestamps are contained in `id_time_vitals_test.csv` and only the ones with `ICUFlag` = 1 will be considered."
   ]
  },
  {
   "cell_type": "markdown",
   "metadata": {},
   "source": [
    "The following function appends a row to the output.csv file / creates and appends if it does not already exist. \n",
    "Try out for different combinations of timestamps and prediction values in the box below. \n",
    "The input is of the form `patient_id` and `pred_sequence`.\n",
    "Here `pred_sequence` must be a list of tuples in the form (`time_stamp`, `prediction`)"
   ]
  },
  {
   "cell_type": "code",
   "execution_count": 39,
   "metadata": {
    "collapsed": false
   },
   "outputs": [],
   "source": [
    "import csv\n",
    "def append_pred_sequence_to_output_file(patient_id,pred_sequence):\n",
    "    '''Adds a row in output.csv with the prediction results according to the evaluation scheme. Pred_sequence is a Python list of tuples with first element being timestamp and second being prediction at timestamp'''\n",
    "    sequence = [x[1] for x in pred_sequence]\n",
    "    if(1 in sequence):\n",
    "                prediction = 1\n",
    "                prediction_time = pred_sequence[-1][0]-pred_sequence[sequence.index(1)][0]\n",
    "    else:\n",
    "                prediction = 0\n",
    "                prediction_time = ''\n",
    "    with open('output.csv', 'a') as csvfile:\n",
    "        output_writer = csv.writer(csvfile, delimiter=',')\n",
    "        output_writer.writerow([patient_id, prediction_time, prediction])"
   ]
  },
  {
   "cell_type": "code",
   "execution_count": 40,
   "metadata": {
    "collapsed": false
   },
   "outputs": [],
   "source": [
    "convert_pred_sequence_to_output_file(1,[(1,0),(2,0),(3,1),(4,0),(15,1)])\n",
    "a = [-1,2,3,4,1,1,1]"
   ]
  }
 ],
 "metadata": {
  "kernelspec": {
   "display_name": "Python 2",
   "language": "python",
   "name": "python2"
  },
  "language_info": {
   "codemirror_mode": {
    "name": "ipython",
    "version": 2
   },
   "file_extension": ".py",
   "mimetype": "text/x-python",
   "name": "python",
   "nbconvert_exporter": "python",
   "pygments_lexer": "ipython2",
   "version": "2.7.10"
  }
 },
 "nbformat": 4,
 "nbformat_minor": 0
}
