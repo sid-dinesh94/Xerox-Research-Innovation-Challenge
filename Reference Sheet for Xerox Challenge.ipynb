{
 "cells": [
  {
   "cell_type": "markdown",
   "metadata": {},
   "source": [
    "#Xerox Innovation Challenge"
   ]
  },
  {
   "cell_type": "markdown",
   "metadata": {},
   "source": [
    "##Data Summary"
   ]
  },
  {
   "cell_type": "markdown",
   "metadata": {},
   "source": [
    "There are 5990 patient records. The task is to predict the <b>risk</b> of death in patients admitted to ICU within hospitals"
   ]
  },
  {
   "cell_type": "markdown",
   "metadata": {},
   "source": [
    "ID: A unique identifier for each patient"
   ]
  },
  {
   "cell_type": "markdown",
   "metadata": {},
   "source": [
    "Age: Age of the patient"
   ]
  },
  {
   "cell_type": "markdown",
   "metadata": {},
   "source": [
    "Time Series Variables Vitals and Lab Measurements associated with each timestamp. "
   ]
  },
  {
   "cell_type": "markdown",
   "metadata": {},
   "source": [
    "First timestamp is 0, each subsequent measurement will be in seconds"
   ]
  },
  {
   "cell_type": "markdown",
   "metadata": {},
   "source": [
    "All Vitals and Lab Measurements may not be there for all timestamps"
   ]
  },
  {
   "cell_type": "markdown",
   "metadata": {},
   "source": [
    "ICU Flag: Whether the patient is inside the ICU or outside the ICU at the timestamp"
   ]
  },
  {
   "cell_type": "markdown",
   "metadata": {},
   "source": [
    "Mortality Indicator: Whether the patient survived or died at the end of the hospital stay. No patient in the dataset dies outside the ICU. For dead patients, time of death is after the last measurement recorded"
   ]
  },
  {
   "cell_type": "markdown",
   "metadata": {},
   "source": [
    "##DATA FORMAT"
   ]
  },
  {
   "cell_type": "markdown",
   "metadata": {},
   "source": [
    "Dataset of vitals:\n",
    "<li>file: <i>id_time_vitals_train.csv</i> \n",
    "    contains timestamped vitals measurements of all train patients with the ICU flag for each timestamp. Column headers are <b> ID, TIME, V1, V2, ... , V6, ICU</b>\n",
    "    </li>\n",
    "<li>file: <i> id_time_labs_train.csv</i>\n",
    "    contains timestamped lab measurements of all train patients with column headers as <b> ID, TIME, L1, ... , L25</b>\n",
    "    Measurements that are not made at a timestamp have the value <b>NA</b>\n",
    "    </li>\n",
    "<li>file: <i>id_age_train.csv</i> One line per patient, each line with ID and Age. Column headers <b> ID, AGE</b>\n",
    "</li>\n",
    "<li> file: <i>id_label_train.csv</i> One line per patient. Each line contains ID and mortality label. 0 indicates survival. 1 is Death. Column headers <b> ID, LABEL</b>\n",
    "    "
   ]
  },
  {
   "cell_type": "markdown",
   "metadata": {},
   "source": [
    "##VALIDATION SET"
   ]
  },
  {
   "cell_type": "markdown",
   "metadata": {},
   "source": [
    "Consists of three files. id_time_vitals_val.csv, id_time_labs_val.csv, id_age_val.csv. Label data is not provided. Scores are calculated using a metric and shown on leaderboard."
   ]
  },
  {
   "cell_type": "markdown",
   "metadata": {},
   "source": [
    "##PREDICTION"
   ]
  },
  {
   "cell_type": "markdown",
   "metadata": {},
   "source": [
    "Prediction to be made only when patient is in ICU. Prediction to be done in an ONLINE manner. So for each timestamp, the model can make use of past data and make a prediction for that timestamp. Predictions are to be made while the patient is in ICU.\n",
    "So each patient has a sequence of predictions."
   ]
  },
  {
   "cell_type": "markdown",
   "metadata": {},
   "source": [
    "<b> Final Prediction</b>: OR(of all the elements of the sequence of predictions)\n",
    "<b> Prediction Time </b> Only for patients whose final prediction is 1. Difference between the last timestamp and first timestamp with a prediction of 1. \n",
    "<b>Sensitivity</b> = True Positives/ (True Positives + False Negatives)\n",
    "<b>Specificity</b> = True Negatives / (True Negatives + False Positives)"
   ]
  },
  {
   "cell_type": "code",
   "execution_count": null,
   "metadata": {
    "collapsed": true
   },
   "outputs": [],
   "source": []
  }
 ],
 "metadata": {
  "kernelspec": {
   "display_name": "Python 2",
   "language": "python",
   "name": "python2"
  },
  "language_info": {
   "codemirror_mode": {
    "name": "ipython",
    "version": 2
   },
   "file_extension": ".py",
   "mimetype": "text/x-python",
   "name": "python",
   "nbconvert_exporter": "python",
   "pygments_lexer": "ipython2",
   "version": "2.7.10"
  }
 },
 "nbformat": 4,
 "nbformat_minor": 0
}
