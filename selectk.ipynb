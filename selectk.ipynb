{
 "cells": [
  {
   "cell_type": "code",
   "execution_count": 1,
   "metadata": {
    "collapsed": true
   },
   "outputs": [],
   "source": [
    "import pandas as pd\n",
    "import numpy as np\n",
    "from sklearn.metrics import confusion_matrix\n",
    "from sklearn.linear_model import SGDClassifier\n",
    "from sklearn.grid_search import GridSearchCV\n",
    "from sklearn.feature_selection import SelectKBest\n",
    "from sklearn.pipeline import Pipeline\n",
    "from sklearn.metrics import make_scorer"
   ]
  },
  {
   "cell_type": "code",
   "execution_count": 2,
   "metadata": {
    "collapsed": true
   },
   "outputs": [],
   "source": [
    "data_age = pd.read_csv(\"id_age_train.csv\", sep=\",\")\n",
    "data_vitals = pd.read_csv(\"id_time_vitals_train.csv\", sep=\",\")\n",
    "data_labels = pd.read_csv(\"id_label_train.csv\", sep=\",\").set_index('ID')\n",
    "data_labs = pd.read_csv(\"id_time_labs_train.csv\", sep = \",\")\n",
    "data_timeseries = pd.merge(data_labs, data_vitals)\n",
    "patients = data_timeseries['ID']\n",
    "patient_ids = list(data_timeseries['ID'].unique())\n",
    "labels = np.zeros(len(patients))\n",
    "for p in patient_ids:\n",
    "    if int(data_labels.ix[p]['LABEL'])==1:\n",
    "        data_id = data_timeseries[data_timeseries['ID']==p]\n",
    "        indices = data_id[data_id['ICU']==1].index\n",
    "        num = len(indices)\n",
    "        for i in indices:\n",
    "            labels[i]=1\n",
    "data_timeseries['LABEL'] = labels\n",
    "data = pd.merge( data_age, data_timeseries, on='ID')"
   ]
  },
  {
   "cell_type": "code",
   "execution_count": 10,
   "metadata": {
    "collapsed": true
   },
   "outputs": [],
   "source": [
    "%xdel data_timeseries\n",
    "%xdel data_age\n",
    "%xdel data_vitals\n",
    "%xdel data_labs"
   ]
  },
  {
   "cell_type": "code",
   "execution_count": 3,
   "metadata": {
    "collapsed": true
   },
   "outputs": [],
   "source": [
    "data['V6'] = data['V6'].apply(lambda x: 80 if x<80 else 112 if x>112 else x)\n",
    "data['V5'] = data['V5'].apply(lambda x: 100 if x>100 else x if x>0 else np.nan )\n",
    "data['V4'] = data['V4'].apply(lambda x: x if x>0 else np.nan )\n",
    "data['V3'] = data['V3'].apply(lambda x: x if (x>30 and x<220) else np.nan )\n",
    "data['V2'] = data['V2'].apply(lambda x: x if (x>15 and x<200) else np.nan )\n",
    "data['V1'] = data['V1'].apply(lambda x: x if (x>30 and x<300) else np.nan )\n",
    "data['L1'] = data['L1'].apply(lambda x: x if (x>0 and x<14) else np.nan)\n",
    "data['L2'] = data['L2'].apply(lambda x: 132 if x>132 else x if x>0 else np.nan )\n",
    "data[['L3', 'L4', 'L5', 'L6', 'L16','L17', 'L13', 'L14', 'L21', 'L22', 'L24', 'L25']] = data[['L3', 'L4', 'L5', 'L6', 'L16','L17', 'L13', 'L14', 'L21', 'L22', 'L24', 'L25']].applymap(lambda x: x if x>0 else np.nan )\n",
    "data['L7'] = data['L7'].apply(lambda x: x if x<700 else 700 if x>700 else np.nan)\n",
    "data['L8'] = data['L8'].apply(lambda x: x if x<200 else 200 if x>200 else np.nan)\n",
    "data['L9'] = data['L9'].apply(lambda x: x if x<100 else x/1000)\n",
    "data['L10'] = data['L10'].apply(lambda x: x if (x>0 and x<100) else np.nan)\n",
    "data['L11'] = data['L11'].apply(lambda x: x if (x>0 and x<2000) else 2000 if x>2000 else np.nan)\n",
    "data['L12'] = data['L12'].apply(lambda x: x if x<5 else 5+(x-5)/10)\n",
    "data['L15'] =data['L15'].apply(lambda x: x if (x>0 and x<20) else 20 if x>20 else np.nan)\n",
    "data['L18'] =data['L18'].apply(lambda x: x if x<1000 else 1000 if x>1000 else np.nan)\n",
    "data['L19'] =data['L19'].apply(lambda x: x if x<800 else 800 if x>800 else np.nan)\n",
    "data['L20'] =data['L20'].apply(lambda x: x/100 if x>1000 else x if x>0 else np.nan)\n",
    "data['L23'] =data['L23'].apply(lambda x: 3000 if x>3000 else x if x>0 else -1*x)\n",
    "\n"
   ]
  },
  {
   "cell_type": "code",
   "execution_count": 4,
   "metadata": {
    "collapsed": false
   },
   "outputs": [
    {
     "name": "stdout",
     "output_type": "stream",
     "text": [
      "Preprocessing\n",
      "...done\n"
     ]
    }
   ],
   "source": [
    "print \"Preprocessing\"\n",
    "data_grouped = data.groupby(['ID','TIME']).mean()\n",
    "normal = {attribute: data[attribute].mean() for attribute in data.columns}\n",
    "patient_ids = data['ID'].unique()\n",
    "for patient in patient_ids:\n",
    "    data_grouped.loc[patient, 0] = data_grouped.loc[patient, 0].fillna(normal)\n",
    "data_filled = data_grouped.reset_index()#.fillna(method='ffill')\n",
    "data_np = data_filled.as_matrix()\n",
    "print \"...done\""
   ]
  },
  {
   "cell_type": "code",
   "execution_count": 9,
   "metadata": {
    "collapsed": true
   },
   "outputs": [],
   "source": [
    "%xdel data_grouped"
   ]
  },
  {
   "cell_type": "code",
   "execution_count": 5,
   "metadata": {
    "collapsed": true
   },
   "outputs": [],
   "source": [
    "data_without_labels = data_filled[data_filled.columns[:-2]]\n",
    "data_by_id = data_without_labels.groupby('ID')\n",
    "timecolumns = data_filled.columns[3:-2]\n",
    "data_medians = data_by_id.apply(pd.expanding_median)[timecolumns].rename(columns=lambda x: 'MEDIAN_'+x)\n",
    "data_stds = data_by_id.apply(pd.expanding_std).fillna(0)[timecolumns].rename(columns=lambda x: 'STD_'+x)\n",
    "data_mins = data_by_id.apply(pd.expanding_min).fillna(0)[timecolumns].rename(columns=lambda x: 'MIN_'+x)\n",
    "data_maxs = data_by_id.apply(pd.expanding_max)[timecolumns].rename(columns=lambda x: 'MAX_'+x)\n",
    "data_counts = data_by_id.apply(pd.expanding_count)[timecolumns].rename(columns=lambda x: 'COUNT_'+x)"
   ]
  },
  {
   "cell_type": "code",
   "execution_count": 8,
   "metadata": {
    "collapsed": false
   },
   "outputs": [],
   "source": [
    "data_stats_full = pd.concat([data_without_labels[['ID','TIME', 'AGE']],data_medians, data_stds, data_mins, data_maxs, data_counts, data_filled[['ICU','LABEL']]], axis = 1)\n",
    "data_stats_np = data_stats_full.as_matrix()"
   ]
  },
  {
   "cell_type": "code",
   "execution_count": null,
   "metadata": {
    "collapsed": true
   },
   "outputs": [],
   "source": [
    "%xdel data_medians\n",
    "%xdel data_stds\n",
    "%xdel data_mins\n",
    "%xdel data_maxs\n",
    "%xdel data_counts\n",
    "%xdel data_by_id\n",
    "%xdel data_without_labels"
   ]
  },
  {
   "cell_type": "code",
   "execution_count": 6,
   "metadata": {
    "collapsed": true
   },
   "outputs": [],
   "source": [
    "data_age_val = pd.read_csv(\"id_age_val.csv\", sep=\",\")\n",
    "data_vitals_val = pd.read_csv(\"id_time_vitals_val.csv\", sep=\",\")\n",
    "data_labels_val = pd.read_csv(\"id_label_val.csv\", sep=\",\", header=None, names=['ID', 'LABEL']).set_index('ID')\n",
    "data_labs_val = pd.read_csv(\"id_time_labs_val.csv\", sep = \",\")\n",
    "data_timeseries_val = pd.merge(data_labs_val, data_vitals_val)\n",
    "patient_ids_val = list(data_timeseries_val['ID'].unique())\n",
    "data_val = pd.merge( data_age_val, data_timeseries_val, on='ID')"
   ]
  },
  {
   "cell_type": "code",
   "execution_count": 11,
   "metadata": {
    "collapsed": true
   },
   "outputs": [],
   "source": [
    "data_val['V6'] = data_val['V6'].apply(lambda x: 80 if x<80 else 112 if x>112 else x)\n",
    "data_val['V5'] = data_val['V5'].apply(lambda x: 100 if x>100 else x if x>0 else np.nan )\n",
    "data_val['V4'] = data_val['V4'].apply(lambda x: x if x>0 else np.nan )\n",
    "data_val['V3'] = data_val['V3'].apply(lambda x: x if (x>30 and x<220) else np.nan )\n",
    "data_val['V2'] = data_val['V2'].apply(lambda x: x if (x>15 and x<200) else np.nan )\n",
    "data_val['V1'] = data_val['V1'].apply(lambda x: x if (x>30 and x<300) else np.nan )\n",
    "data_val['L1'] = data_val['L1'].apply(lambda x: x if (x>0 and x<14) else np.nan)\n",
    "data_val['L2'] = data_val['L2'].apply(lambda x: 132 if x>132 else x if x>0 else np.nan )\n",
    "data_val[['L3', 'L4', 'L5', 'L6', 'L16','L17', 'L13', 'L14', 'L21', 'L22', 'L24', 'L25']] = data_val[['L3', 'L4', 'L5', 'L6', 'L16','L17', 'L13', 'L14', 'L21', 'L22', 'L24', 'L25']].applymap(lambda x: x if x>0 else np.nan )\n",
    "data_val['L7'] = data_val['L7'].apply(lambda x: x if x<700 else 700 if x>700 else np.nan)\n",
    "data_val['L8'] = data_val['L8'].apply(lambda x: x if x<200 else 200 if x>200 else np.nan)\n",
    "data_val['L9'] = data_val['L9'].apply(lambda x: x if x<100 else x/1000)\n",
    "data_val['L10'] = data_val['L10'].apply(lambda x: x if (x>0 and x<100) else np.nan)\n",
    "data_val['L11'] = data_val['L11'].apply(lambda x: x if (x>0 and x<2000) else 2000 if x>2000 else np.nan)\n",
    "data_val['L12'] = data_val['L12'].apply(lambda x: x if x<5 else 5+(x-5)/10)\n",
    "data_val['L15'] =data_val['L15'].apply(lambda x: x if (x>0 and x<20) else 20 if x>20 else np.nan)\n",
    "data_val['L18'] =data_val['L18'].apply(lambda x: x if x<1000 else 1000 if x>1000 else np.nan)\n",
    "data_val['L19'] =data_val['L19'].apply(lambda x: x if x<800 else 800 if x>800 else np.nan)\n",
    "data_val['L20'] =data_val['L20'].apply(lambda x: x/100 if x>1000 else x if x>0 else np.nan)\n",
    "data_val['L23'] =data_val['L23'].apply(lambda x: 3000 if x>3000 else x if x>0 else -1*x)"
   ]
  },
  {
   "cell_type": "code",
   "execution_count": null,
   "metadata": {
    "collapsed": true
   },
   "outputs": [],
   "source": [
    "%xdel data_timeseries_val\n",
    "%xdel data_age_val\n",
    "%xdel data_vitals_val\n",
    "%xdel data_labs_val"
   ]
  },
  {
   "cell_type": "code",
   "execution_count": null,
   "metadata": {
    "collapsed": true
   },
   "outputs": [],
   "source": [
    "print \"Preprocessing\"\n",
    "data_grouped_val = data_val.groupby(['ID','TIME']).mean()\n",
    "patient_ids_val = data_val['ID'].unique()\n",
    "for patient in patient_ids_val:\n",
    "    data_grouped_val.loc[patient, 0] = data_grouped_val.loc[patient, 0].fillna(normal)\n",
    "data_filled_val = data_grouped_val.reset_index()#.fillna(method='ffill')\n",
    "print \"...done\""
   ]
  },
  {
   "cell_type": "code",
   "execution_count": null,
   "metadata": {
    "collapsed": true
   },
   "outputs": [],
   "source": [
    "%xdel data_grouped_val"
   ]
  },
  {
   "cell_type": "code",
   "execution_count": null,
   "metadata": {
    "collapsed": true
   },
   "outputs": [],
   "source": [
    "data_without_labels_val = data_filled_val[data_filled_val.columns[:-1]]\n",
    "data_by_id_val =  data_without_labels_val.groupby('ID')\n",
    "data_medians_val = data_by_id_val.apply(pd.expanding_median)[timecolumns].rename(columns=lambda x: 'MEDIAN_'+x)\n",
    "data_stds_val = data_by_id_val.apply(pd.expanding_std).fillna(0)[timecolumns].rename(columns=lambda x: 'STD_'+x)\n",
    "data_mins_val = data_by_id_val.apply(pd.expanding_min)[timecolumns].rename(columns=lambda x: 'MIN_'+x)\n",
    "data_maxs_val = data_by_id_val.apply(pd.expanding_max)[timecolumns].rename(columns=lambda x: 'MAX_'+x)\n",
    "data_counts_val = data_by_id_val.apply(pd.expanding_count)[timecolumns].rename(columns=lambda x: 'COUNT_'+x)"
   ]
  },
  {
   "cell_type": "code",
   "execution_count": null,
   "metadata": {
    "collapsed": true
   },
   "outputs": [],
   "source": [
    "data_stats_val = pd.concat([data_filled_val[['ID','TIME', 'AGE']], data_medians_val, data_stds_val, data_mins_val, data_maxs_val, data_counts_val, data_filled_val[['ICU']]], axis = 1)"
   ]
  },
  {
   "cell_type": "code",
   "execution_count": null,
   "metadata": {
    "collapsed": true
   },
   "outputs": [],
   "source": [
    "%xdel data_medians_val\n",
    "%xdel data_stds_val\n",
    "%xdel data_mins_val\n",
    "%xdel data_maxs_val\n",
    "%xdel data_counts_val\n",
    "%xdel data_by_id_val\n",
    "%xdel data_without_labels_val"
   ]
  },
  {
   "cell_type": "markdown",
   "metadata": {},
   "source": [
    "#Previous code has to be run only once. Now repeat the upcoming code by changing values of K"
   ]
  },
  {
   "cell_type": "code",
   "execution_count": 1,
   "metadata": {
    "collapsed": false
   },
   "outputs": [
    {
     "ename": "NameError",
     "evalue": "name 'arange' is not defined",
     "output_type": "error",
     "traceback": [
      "\u001b[1;31m---------------------------------------------------------------------------\u001b[0m",
      "\u001b[1;31mNameError\u001b[0m                                 Traceback (most recent call last)",
      "\u001b[1;32m<ipython-input-1-2848590e6e69>\u001b[0m in \u001b[0;36m<module>\u001b[1;34m()\u001b[0m\n\u001b[1;32m----> 1\u001b[1;33m \u001b[0mks\u001b[0m \u001b[1;33m=\u001b[0m \u001b[0marange\u001b[0m\u001b[1;33m(\u001b[0m\u001b[1;36m30\u001b[0m\u001b[1;33m,\u001b[0m\u001b[1;36m100\u001b[0m\u001b[1;33m,\u001b[0m\u001b[1;36m8\u001b[0m\u001b[1;33m)\u001b[0m\u001b[1;33m\u001b[0m\u001b[0m\n\u001b[0m",
      "\u001b[1;31mNameError\u001b[0m: name 'arange' is not defined"
     ]
    }
   ],
   "source": [
    "ks = arange(30,100,8)"
   ]
  },
  {
   "cell_type": "code",
   "execution_count": 14,
   "metadata": {
    "collapsed": true
   },
   "outputs": [],
   "source": [
    "sel = SelectKBest(k=k)\n",
    "train_feats = data_stats_np[:,2:-2]\n",
    "sel.fit(train_feats, data_stats_np[:,-1])"
   ]
  },
  {
   "cell_type": "code",
   "execution_count": null,
   "metadata": {
    "collapsed": true
   },
   "outputs": [],
   "source": [
    "indices_of_best = sel.get_support()\n",
    "features = data_stats_full.columns[2:-2]\n",
    "kfeatures = features[indices_of_best]"
   ]
  },
  {
   "cell_type": "markdown",
   "metadata": {},
   "source": [
    "##Check that these lists are flat"
   ]
  },
  {
   "cell_type": "code",
   "execution_count": null,
   "metadata": {
    "collapsed": false
   },
   "outputs": [],
   "source": [
    "kfeaturesfull = ['ID', 'TIME'] + kfeatures + ['ICU','LABEL']\n",
    "kfeaturesfullval = ['ID', 'TIME'] + kfeatures + ['ICU']"
   ]
  },
  {
   "cell_type": "code",
   "execution_count": null,
   "metadata": {
    "collapsed": true
   },
   "outputs": [],
   "source": [
    "train_stats = data_stats_full[kfeaturesfull]\n",
    "val_stats = data_stats_val[kfeaturesval]"
   ]
  },
  {
   "cell_type": "code",
   "execution_count": null,
   "metadata": {
    "collapsed": true
   },
   "outputs": [],
   "source": [
    "\n",
    "print 'Testing'\n",
    "test_feats_grouped = val_stats.set_index('ID')\n",
    "test_ids = test_feats_grouped.index.unique()\n",
    "final_preds = []\n",
    "final_answers =[]\n",
    "for id in test_ids:\n",
    "    test_id = test_feats_grouped.ix[id]\n",
    "    test_id_np = test_id.as_matrix()\n",
    "    test_id_np = np.atleast_2d(test_id_np)\n",
    "    icu_indices = np.nonzero(test_id_np[:,-1])[0]\n",
    "    prev_prediction = 0\n",
    "    final_answers.append(data_labels_val.ix[int(id)]['LABEL'])\n",
    "    flag = 0\n",
    "    final=0\n",
    "    icui=0\n",
    "    for ind in icu_indices:\n",
    "        partial_data_feats = test_id_np[:ind+1,1:-1]\n",
    "        if icui==0 and ind>0:\n",
    "            clf.partial_fit(partial_data_feats[:-1,:], np.zeros((partial_data_feats[:-1,:].shape[0],)))\n",
    "        if icui>0:\n",
    "            if ind - icu_indices[icui-1]>1 :\n",
    "                results = np.empty((partial_data_feats[icu_indices[icui-1]:ind,:].shape[0],))\n",
    "                results.fill(int(prev_prediction[0]))\n",
    "                clf.partial_fit(partial_data_feats[icu_indices[icui-1]:ind,:], results)\n",
    "            else:\n",
    "                prev_icu = np.atleast_2d(partial_data_feats[icu_indices[icui-1],:])\n",
    "                clf.partial_fit(prev_icu, prev_prediction)\n",
    "        prediction = clf.predict(partial_data_feats[-1,:])\n",
    "        prev_prediction = prediction\n",
    "        if flag==0 and int(prediction[0])==1:\n",
    "            final=1\n",
    "            flag+=1\n",
    "        icui+=1\n",
    "    final_preds.append(final)\n",
    "print '...done'\n",
    "print'Scoring'\n",
    "cm = confusion_matrix(final_answers, final_preds)\n",
    "TN = cm[0][0]\n",
    "FP = cm[0][1]\n",
    "FN = cm[1][0]\n",
    "TP = cm[1][1]\n",
    "specificity = float(TN)/(TN+FP)\n",
    "sensitivity = float(TP)/(TP+FN)\n",
    "print '...done'"
   ]
  },
  {
   "cell_type": "code",
   "execution_count": null,
   "metadata": {
    "collapsed": true
   },
   "outputs": [],
   "source": [
    "specificity"
   ]
  },
  {
   "cell_type": "code",
   "execution_count": null,
   "metadata": {
    "collapsed": true
   },
   "outputs": [],
   "source": [
    "sensitivity"
   ]
  },
  {
   "cell_type": "code",
   "execution_count": null,
   "metadata": {
    "collapsed": true
   },
   "outputs": [],
   "source": [
    "cm"
   ]
  }
 ],
 "metadata": {
  "kernelspec": {
   "display_name": "Python 2",
   "language": "python",
   "name": "python2"
  },
  "language_info": {
   "codemirror_mode": {
    "name": "ipython",
    "version": 2
   },
   "file_extension": ".py",
   "mimetype": "text/x-python",
   "name": "python",
   "nbconvert_exporter": "python",
   "pygments_lexer": "ipython2",
   "version": "2.7.10"
  }
 },
 "nbformat": 4,
 "nbformat_minor": 0
}
